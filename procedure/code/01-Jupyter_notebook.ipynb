{
 "cells": [
  {
   "cell_type": "markdown",
   "metadata": {},
   "source": [
    "# Reproduction of Geography 120 Gerrymandering and Area-Weighted Reaggregation Lab\n",
    "\n",
    "### Authors\n",
    "\n",
    "Grace Sokolow\\*, gsokolow@middlebury.edu, @gsokolow, Middlebury College (Undergraduate)\n",
    "\n",
    "\\* Corresponding author and creator\n",
    "\n",
    "\n",
    "Version 0.1.0 \\| First Created November 30, 2023 \\| Updated November 30, 2023\n",
    "\n"
   ]
  },
  {
   "cell_type": "markdown",
   "metadata": {},
   "source": [
    "### NOTE\n",
    "\n",
    "can delete any extraneous bits and then bring in all the analysis plan info via code or copy and paste; see the original template format for what's suggested\n",
    "\n",
    "use markdown (here()) -> ask Liam"
   ]
  },
  {
   "cell_type": "markdown",
   "metadata": {},
   "source": [
    "## Abstract\n"
   ]
  },
  {
   "cell_type": "markdown",
   "metadata": {},
   "source": [
    "## Study design"
   ]
  },
  {
   "cell_type": "markdown",
   "metadata": {
    "id": "lpUbJuwsgQJu"
   },
   "source": [
    "## Computational environment\n",
    "\n",
    "This study uses Python 3.11.5. Dependencies are linked in procedure/environment/requirements.txt\n"
   ]
  },
  {
   "cell_type": "code",
   "execution_count": 1,
   "metadata": {
    "tags": []
   },
   "outputs": [
    {
     "name": "stdout",
     "output_type": "stream",
     "text": [
      "Python 3.11.5\n",
      "Defaulting to user installation because normal site-packages is not writeable\n",
      "Requirement already satisfied: pandas in c:\\programdata\\anaconda3\\lib\\site-packages (from -r ../environment/requirements.txt (line 1)) (2.0.3)\n",
      "Requirement already satisfied: geopandas in c:\\users\\gsokolow\\appdata\\roaming\\python\\python311\\site-packages (from -r ../environment/requirements.txt (line 2)) (0.14.1)\n",
      "Requirement already satisfied: python-dateutil>=2.8.2 in c:\\programdata\\anaconda3\\lib\\site-packages (from pandas->-r ../environment/requirements.txt (line 1)) (2.8.2)\n",
      "Requirement already satisfied: pytz>=2020.1 in c:\\programdata\\anaconda3\\lib\\site-packages (from pandas->-r ../environment/requirements.txt (line 1)) (2023.3.post1)\n",
      "Requirement already satisfied: tzdata>=2022.1 in c:\\programdata\\anaconda3\\lib\\site-packages (from pandas->-r ../environment/requirements.txt (line 1)) (2023.3)\n",
      "Requirement already satisfied: numpy>=1.21.0 in c:\\programdata\\anaconda3\\lib\\site-packages (from pandas->-r ../environment/requirements.txt (line 1)) (1.24.3)\n",
      "Requirement already satisfied: fiona>=1.8.21 in c:\\users\\gsokolow\\appdata\\roaming\\python\\python311\\site-packages (from geopandas->-r ../environment/requirements.txt (line 2)) (1.9.5)\n",
      "Requirement already satisfied: packaging in c:\\programdata\\anaconda3\\lib\\site-packages (from geopandas->-r ../environment/requirements.txt (line 2)) (23.1)\n",
      "Requirement already satisfied: pyproj>=3.3.0 in c:\\users\\gsokolow\\appdata\\roaming\\python\\python311\\site-packages (from geopandas->-r ../environment/requirements.txt (line 2)) (3.6.1)\n",
      "Requirement already satisfied: shapely>=1.8.0 in c:\\users\\gsokolow\\appdata\\roaming\\python\\python311\\site-packages (from geopandas->-r ../environment/requirements.txt (line 2)) (2.0.2)\n",
      "Requirement already satisfied: attrs>=19.2.0 in c:\\programdata\\anaconda3\\lib\\site-packages (from fiona>=1.8.21->geopandas->-r ../environment/requirements.txt (line 2)) (22.1.0)\n",
      "Requirement already satisfied: certifi in c:\\programdata\\anaconda3\\lib\\site-packages (from fiona>=1.8.21->geopandas->-r ../environment/requirements.txt (line 2)) (2023.7.22)\n",
      "Requirement already satisfied: click~=8.0 in c:\\programdata\\anaconda3\\lib\\site-packages (from fiona>=1.8.21->geopandas->-r ../environment/requirements.txt (line 2)) (8.0.4)\n",
      "Requirement already satisfied: click-plugins>=1.0 in c:\\users\\gsokolow\\appdata\\roaming\\python\\python311\\site-packages (from fiona>=1.8.21->geopandas->-r ../environment/requirements.txt (line 2)) (1.1.1)\n",
      "Requirement already satisfied: cligj>=0.5 in c:\\users\\gsokolow\\appdata\\roaming\\python\\python311\\site-packages (from fiona>=1.8.21->geopandas->-r ../environment/requirements.txt (line 2)) (0.7.2)\n",
      "Requirement already satisfied: six in c:\\programdata\\anaconda3\\lib\\site-packages (from fiona>=1.8.21->geopandas->-r ../environment/requirements.txt (line 2)) (1.16.0)\n",
      "Requirement already satisfied: setuptools in c:\\programdata\\anaconda3\\lib\\site-packages (from fiona>=1.8.21->geopandas->-r ../environment/requirements.txt (line 2)) (68.0.0)\n",
      "Requirement already satisfied: colorama in c:\\programdata\\anaconda3\\lib\\site-packages (from click~=8.0->fiona>=1.8.21->geopandas->-r ../environment/requirements.txt (line 2)) (0.4.6)\n"
     ]
    }
   ],
   "source": [
    "# report python version and install required packages\n",
    "# switch if statement from True to False once packages have been installed\n",
    "if True:\n",
    "    !python -V\n",
    "    !pip install -r ../environment/requirements.txt"
   ]
  },
  {
   "cell_type": "code",
   "execution_count": 2,
   "metadata": {
    "tags": []
   },
   "outputs": [],
   "source": [
    "# Now, let's import what we need\n",
    "import geopandas as gpd\n",
    "import pandas as pd"
   ]
  },
  {
   "cell_type": "code",
   "execution_count": null,
   "metadata": {
    "tags": []
   },
   "outputs": [],
   "source": [
    "# check version\n",
    "pip.freeze"
   ]
  },
  {
   "cell_type": "markdown",
   "metadata": {},
   "source": [
    "## Taking an initial look at the data...\n",
    "\n",
    "Let's open each data source and examine its variables."
   ]
  },
  {
   "cell_type": "code",
   "execution_count": 6,
   "metadata": {
    "tags": []
   },
   "outputs": [
    {
     "name": "stdout",
     "output_type": "stream",
     "text": [
      "Empty GeoDataFrame\n",
      "Columns: [District, geometry]\n",
      "Index: []\n"
     ]
    }
   ],
   "source": [
    "cd2016 = gpd.read_file(\"../../data/raw/public/givens/2016_Contingent_Congressional_Plan_Corrected.shp\")\n",
    "\n",
    "print(cd2016.head(0))"
   ]
  },
  {
   "cell_type": "code",
   "execution_count": 9,
   "metadata": {
    "tags": []
   },
   "outputs": [
    {
     "data": {
      "text/plain": [
       "District       int64\n",
       "geometry    geometry\n",
       "dtype: object"
      ]
     },
     "execution_count": 9,
     "metadata": {},
     "output_type": "execute_result"
    }
   ],
   "source": [
    "cd2016.dtypes"
   ]
  },
  {
   "cell_type": "code",
   "execution_count": 14,
   "metadata": {
    "tags": []
   },
   "outputs": [
    {
     "data": {
      "text/plain": [
       "0      1\n",
       "1      2\n",
       "2      3\n",
       "3      4\n",
       "4      5\n",
       "5      6\n",
       "6      7\n",
       "7      8\n",
       "8      9\n",
       "9     10\n",
       "10    11\n",
       "11    12\n",
       "12    13\n",
       "Name: District, dtype: int64"
      ]
     },
     "execution_count": 14,
     "metadata": {},
     "output_type": "execute_result"
    }
   ],
   "source": [
    "cd2016[\"District\"]"
   ]
  },
  {
   "cell_type": "markdown",
   "metadata": {},
   "source": [
    "### Analysis\n",
    "\n",
    "Describe the methods of analysis that will directly test the hypotheses or provide results to answer the research questions.\n",
    "This section should explicitly define any spatial / statistical *models* and their *parameters*, including *grouping* criteria, *weighting* criteria, and *significance thresholds*.\n",
    "Also explain any follow-up analyses or validations.\n",
    "\n"
   ]
  },
  {
   "cell_type": "markdown",
   "metadata": {},
   "source": [
    "## Results\n",
    "\n",
    "Describe how results are to be presented.\n",
    "\n"
   ]
  },
  {
   "cell_type": "markdown",
   "metadata": {},
   "source": [
    "## Discussion\n",
    "\n",
    "Describe how the results are to be interpreted *vis a vis* each hypothesis or research question.\n",
    "\n"
   ]
  },
  {
   "cell_type": "markdown",
   "metadata": {},
   "source": [
    "## Integrity Statement\n",
    "\n",
    "Include an integrity statement - The authors of this preregistration state that they completed this preregistration to the best of their knowledge and that no other preregistration exists pertaining to the same hypotheses and research.\n",
    "If a prior registration *does* exist, explain the rationale for revising the registration here.\n",
    "\n"
   ]
  },
  {
   "cell_type": "markdown",
   "metadata": {},
   "source": [
    "# Acknowledgements\n",
    "\n",
    "- `Funding Name`: name of funding for the project\n",
    "- `Funding Title`: title of project grant\n",
    "- `Award info URI`: web address for award information\n",
    "- `Award number`: award number\n",
    "\n",
    "This report is based upon the template for Reproducible and Replicable Research in Human-Environment and Geographical Sciences, DOI:[10.17605/OSF.IO/W29MQ](https://doi.org/10.17605/OSF.IO/W29MQ)"
   ]
  },
  {
   "cell_type": "markdown",
   "metadata": {},
   "source": [
    "## References"
   ]
  }
 ],
 "metadata": {
  "colab": {
   "provenance": []
  },
  "kernelspec": {
   "display_name": "Python 3 (ipykernel)",
   "language": "python",
   "name": "python3"
  },
  "language_info": {
   "codemirror_mode": {
    "name": "ipython",
    "version": 3
   },
   "file_extension": ".py",
   "mimetype": "text/x-python",
   "name": "python",
   "nbconvert_exporter": "python",
   "pygments_lexer": "ipython3",
   "version": "3.11.5"
  }
 },
 "nbformat": 4,
 "nbformat_minor": 4
}
